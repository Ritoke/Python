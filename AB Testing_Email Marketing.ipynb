{
 "cells": [
  {
   "cell_type": "markdown",
   "id": "15d93069",
   "metadata": {},
   "source": [
    "# A/B Testing for Email Marketing\n",
    "\n",
    "This is a dummy project by simulating a dataset to perform A/B testing."
   ]
  },
  {
   "cell_type": "code",
   "execution_count": 1,
   "id": "3b4e96da",
   "metadata": {},
   "outputs": [
    {
     "name": "stdout",
     "output_type": "stream",
     "text": [
      "  Subject_Line  Opened\n",
      "0            A       0\n",
      "1            A       1\n",
      "2            A       0\n",
      "3            A       0\n",
      "4            A       0\n",
      "5            A       0\n",
      "6            A       0\n",
      "7            A       1\n",
      "8            A       0\n",
      "9            A       0\n"
     ]
    }
   ],
   "source": [
    "import pandas as pd\n",
    "import numpy as np\n",
    "import seaborn as sns\n",
    "import matplotlib.pyplot as plt\n",
    "\n",
    "# Set seed for reproducibility\n",
    "np.random.seed(42)\n",
    "\n",
    "# Simulate 1000 emails sent for each subject line\n",
    "data = {\n",
    "    'Subject_Line': ['A'] * 1000 + ['B'] * 1000,\n",
    "    'Opened': np.concatenate([\n",
    "        np.random.binomial(1, 0.25, 1000),  # Version A: 25% open rate\n",
    "        np.random.binomial(1, 0.30, 1000)   # Version B: 30% open rate\n",
    "    ])\n",
    "}\n",
    "\n",
    "# Create DataFrame\n",
    "df = pd.DataFrame(data)\n",
    "\n",
    "# Display first 10 rows\n",
    "print(df.head(10))\n"
   ]
  },
  {
   "cell_type": "code",
   "execution_count": 2,
   "id": "fa9b4f5b",
   "metadata": {},
   "outputs": [
    {
     "data": {
      "text/html": [
       "<div>\n",
       "<style scoped>\n",
       "    .dataframe tbody tr th:only-of-type {\n",
       "        vertical-align: middle;\n",
       "    }\n",
       "\n",
       "    .dataframe tbody tr th {\n",
       "        vertical-align: top;\n",
       "    }\n",
       "\n",
       "    .dataframe thead th {\n",
       "        text-align: right;\n",
       "    }\n",
       "</style>\n",
       "<table border=\"1\" class=\"dataframe\">\n",
       "  <thead>\n",
       "    <tr style=\"text-align: right;\">\n",
       "      <th></th>\n",
       "      <th>Subject_Line</th>\n",
       "      <th>Opened</th>\n",
       "    </tr>\n",
       "  </thead>\n",
       "  <tbody>\n",
       "    <tr>\n",
       "      <th>0</th>\n",
       "      <td>A</td>\n",
       "      <td>0</td>\n",
       "    </tr>\n",
       "    <tr>\n",
       "      <th>1</th>\n",
       "      <td>A</td>\n",
       "      <td>1</td>\n",
       "    </tr>\n",
       "    <tr>\n",
       "      <th>2</th>\n",
       "      <td>A</td>\n",
       "      <td>0</td>\n",
       "    </tr>\n",
       "    <tr>\n",
       "      <th>3</th>\n",
       "      <td>A</td>\n",
       "      <td>0</td>\n",
       "    </tr>\n",
       "    <tr>\n",
       "      <th>4</th>\n",
       "      <td>A</td>\n",
       "      <td>0</td>\n",
       "    </tr>\n",
       "    <tr>\n",
       "      <th>...</th>\n",
       "      <td>...</td>\n",
       "      <td>...</td>\n",
       "    </tr>\n",
       "    <tr>\n",
       "      <th>1995</th>\n",
       "      <td>B</td>\n",
       "      <td>0</td>\n",
       "    </tr>\n",
       "    <tr>\n",
       "      <th>1996</th>\n",
       "      <td>B</td>\n",
       "      <td>1</td>\n",
       "    </tr>\n",
       "    <tr>\n",
       "      <th>1997</th>\n",
       "      <td>B</td>\n",
       "      <td>0</td>\n",
       "    </tr>\n",
       "    <tr>\n",
       "      <th>1998</th>\n",
       "      <td>B</td>\n",
       "      <td>0</td>\n",
       "    </tr>\n",
       "    <tr>\n",
       "      <th>1999</th>\n",
       "      <td>B</td>\n",
       "      <td>0</td>\n",
       "    </tr>\n",
       "  </tbody>\n",
       "</table>\n",
       "<p>2000 rows × 2 columns</p>\n",
       "</div>"
      ],
      "text/plain": [
       "     Subject_Line  Opened\n",
       "0               A       0\n",
       "1               A       1\n",
       "2               A       0\n",
       "3               A       0\n",
       "4               A       0\n",
       "...           ...     ...\n",
       "1995            B       0\n",
       "1996            B       1\n",
       "1997            B       0\n",
       "1998            B       0\n",
       "1999            B       0\n",
       "\n",
       "[2000 rows x 2 columns]"
      ]
     },
     "execution_count": 2,
     "metadata": {},
     "output_type": "execute_result"
    }
   ],
   "source": [
    "df\n"
   ]
  },
  {
   "cell_type": "code",
   "execution_count": 3,
   "id": "e19fc31f",
   "metadata": {},
   "outputs": [
    {
     "name": "stdout",
     "output_type": "stream",
     "text": [
      "Missing Values:\n",
      " Subject_Line    0\n",
      "Opened          0\n",
      "dtype: int64\n",
      "\n",
      "Open Rates:\n",
      " Subject_Line\n",
      "A    24.3\n",
      "B    30.7\n",
      "Name: Opened, dtype: float64\n"
     ]
    }
   ],
   "source": [
    "# Check for missing values\n",
    "print(\"Missing Values:\\n\", df.isnull().sum())\n",
    "\n",
    "# Count open rates for each subject line\n",
    "open_rates = df.groupby('Subject_Line')['Opened'].mean() * 100\n",
    "print(\"\\nOpen Rates:\\n\", open_rates)\n"
   ]
  },
  {
   "cell_type": "code",
   "execution_count": 4,
   "id": "c87550f6",
   "metadata": {},
   "outputs": [
    {
     "name": "stdout",
     "output_type": "stream",
     "text": [
      "\n",
      "Chi-Square Statistic: 9.953605015673983\n",
      "P-value: 0.001605347242370494\n",
      "Conclusion: Reject Null Hypothesis – A significant difference exists between the subject lines.\n"
     ]
    }
   ],
   "source": [
    "# We use a Chi-Square test to determine if the difference in open rates between the subject lines is statistically significant.\n",
    "\n",
    "from scipy.stats import chi2_contingency\n",
    "\n",
    "# Create a contingency table\n",
    "contingency_table = pd.crosstab(df['Subject_Line'], df['Opened'])\n",
    "\n",
    "# Perform Chi-Square Test\n",
    "chi2, p, dof, expected = chi2_contingency(contingency_table)\n",
    "\n",
    "# Display Results\n",
    "print(\"\\nChi-Square Statistic:\", chi2)\n",
    "print(\"P-value:\", p)\n",
    "\n",
    "# Decision Rule\n",
    "alpha = 0.05\n",
    "if p < alpha:\n",
    "    print(\"Conclusion: Reject Null Hypothesis – A significant difference exists between the subject lines.\")\n",
    "else:\n",
    "    print(\"Conclusion: Fail to Reject Null Hypothesis – No significant difference between the subject lines.\")\n"
   ]
  },
  {
   "cell_type": "code",
   "execution_count": 5,
   "id": "cb8a46a1",
   "metadata": {},
   "outputs": [
    {
     "data": {
      "image/png": "[encoded data removed]",
      "text/plain": [
       "<Figure size 800x500 with 1 Axes>"
      ]
     },
     "metadata": {},
     "output_type": "display_data"
    }
   ],
   "source": [
    "\n",
    "# Create a bar plot\n",
    "plt.figure(figsize=(8,5))\n",
    "sns.barplot(x=open_rates.index, y=open_rates.values, palette=\"coolwarm\")\n",
    "\n",
    "# Add labels\n",
    "plt.title(\"Email Open Rates by Subject Line\")\n",
    "plt.xlabel(\"Subject Line\")\n",
    "plt.ylabel(\"Open Rate (%)\")\n",
    "plt.ylim(0, 40)\n",
    "\n",
    "# Show plot\n",
    "plt.show()\n"
   ]
  },
  {
   "cell_type": "markdown",
   "id": "d5cd535b",
   "metadata": {},
   "source": [
    "### Since p-value < 0.05, we conclde that subject line B performs significantly better than A.  Therefore, the company can use similar subject lines in future marketing campaigns."
   ]
  },
  {
   "cell_type": "code",
   "execution_count": null,
   "id": "57d694f4",
   "metadata": {},
   "outputs": [],
   "source": []
  },
  {
   "cell_type": "code",
   "execution_count": null,
   "id": "f9dc8ae7",
   "metadata": {},
   "outputs": [],
   "source": []
  }
 ],
 "metadata": {
  "kernelspec": {
   "display_name": "Python 3 (ipykernel)",
   "language": "python",
   "name": "python3"
  },
  "language_info": {
   "codemirror_mode": {
    "name": "ipython",
    "version": 3
   },
   "file_extension": ".py",
   "mimetype": "text/x-python",
   "name": "python",
   "nbconvert_exporter": "python",
   "pygments_lexer": "ipython3",
   "version": "3.11.5"
  }
 },
 "nbformat": 4,
 "nbformat_minor": 5
}
